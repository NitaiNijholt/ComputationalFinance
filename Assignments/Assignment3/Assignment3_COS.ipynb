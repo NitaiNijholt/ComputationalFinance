{
 "cells": [
  {
   "cell_type": "code",
   "execution_count": 282,
   "metadata": {},
   "outputs": [],
   "source": [
    "import numpy as np\n",
    "from scipy.stats import norm\n",
    "import matplotlib.pyplot as plt\n"
   ]
  },
  {
   "cell_type": "code",
   "execution_count": 2,
   "metadata": {},
   "outputs": [],
   "source": [
    "def blackScholes(current_stock_price, strike_price, current_time, maturity_time, interest_rate, volatality, option_type = \"put\"):\n",
    "    \"\"\"\n",
    "    Function to calculate the price of the option using Black Scholes model\n",
    "\n",
    "    Args:\n",
    "        current_stock_price : Current stock price\n",
    "        strike_price : Strike price\n",
    "        current_time : Current time\n",
    "        maturity_time : Maturity time\n",
    "        interest_rate :  Risk free interest rate\n",
    "        volatality : Volatality of the stock\n",
    "\n",
    "    Returns:\n",
    "        Option_price : Price of the option at current time\n",
    "        delta : Delta value of the option\n",
    "    \"\"\"\n",
    "    \n",
    "    tao = maturity_time - current_time\n",
    "    d1 = (np.log(current_stock_price/strike_price) + (interest_rate + volatality**2/2) * tao)/(volatality*np.sqrt(tao))\n",
    "    d2 = d1 - volatality * np.sqrt(tao)\n",
    "    if option_type == \"put\":\n",
    "        option_price =  - current_stock_price * norm.cdf(-d1) + np.exp(-interest_rate * tao) * strike_price * norm.cdf(-d2)\n",
    "        delta = - norm.cdf(-d1)\n",
    "    if option_type == \"call\":\n",
    "        option_price = current_stock_price * norm.cdf(d1) - np.exp(-interest_rate * tao) * strike_price * norm.cdf(d2)\n",
    "        delta = norm.cdf(d1)\n",
    "    \n",
    "    \n",
    "    return option_price, delta "
   ]
  },
  {
   "cell_type": "code",
   "execution_count": null,
   "metadata": {},
   "outputs": [],
   "source": [
    "def create_tridiagonal_matrix(main_diag_value, off_diag_value, size):\n",
    "    \"\"\"\n",
    "    Create a tridiagonal matrix with specified values on the main diagonal and off-diagonals.\n",
    "    \n",
    "    Parameters:\n",
    "        main_diag_value: Value of the main diagonal elements.\n",
    "        off_diag_value: Value of the off-diagonal elements.\n",
    "        size (int): Size of the square matrix.\n",
    "    \n",
    "    Returns:\n",
    "        numpy.ndarray: Tridiagonal matrix.\n",
    "    \"\"\"\n",
    "    # Create a zero-filled matrix of the specified size\n",
    "    tridiag_matrix = np.zeros((size, size))\n",
    "    \n",
    "    # Fill the main diagonal\n",
    "    np.fill_diagonal(tridiag_matrix, main_diag_value)\n",
    "    \n",
    "    # Fill the upper diagonal (above the main diagonal)\n",
    "    np.fill_diagonal(tridiag_matrix[1:], off_diag_value[0])\n",
    "    \n",
    "    # Fill the lower diagonal (below the main diagonal)\n",
    "    np.fill_diagonal(tridiag_matrix[:, 1:], off_diag_value[1])\n",
    "    \n",
    "    return tridiag_matrix"
   ]
  },
  {
   "cell_type": "code",
   "execution_count": 231,
   "metadata": {},
   "outputs": [
    {
     "data": {
      "text/plain": [
       "(15.128591111967928, 0.6115393362947339)"
      ]
     },
     "execution_count": 231,
     "metadata": {},
     "output_type": "execute_result"
    }
   ],
   "source": [
    "r = 0.04\n",
    "vol = 0.3 \n",
    "S0 = 100 \n",
    "K = 110\n",
    "T = 1\n",
    "blackScholes(110, K, 0, T, r, vol, option_type = \"call\")"
   ]
  },
  {
   "cell_type": "code",
   "execution_count": 319,
   "metadata": {},
   "outputs": [],
   "source": [
    "def euroOption_FTCS(delta_X, S0, K, vol, r, T):\n",
    "    \n",
    "    delta_T = delta_X ** 2 / 4\n",
    "    N = int(1/delta_X)\n",
    "    N_T = int(T/delta_T)\n",
    "    Smax = 2 * K # arbitrary choice\n",
    "    Smin = 80 # assuming stock price can't go below 0.0001, set at small number to avoid log(0) errors\n",
    "    xmax = np.log(Smax)\n",
    "    xmin = np.log(Smin)\n",
    "    x = np.linspace(xmin, xmax, N)\n",
    "    initial_option_price = np.maximum(np.exp(x) - K, 0)\n",
    "    \n",
    "    a = 1 - vol**2 * delta_T / ( delta_X**2)\n",
    "    b = (r - 0.5 * vol**2) * delta_T / (2 * delta_X) + 0.5 * vol**2 * delta_T / (delta_X**2)\n",
    "    c = - (r - 0.5 * vol**2) * delta_T / (2 * delta_X) + 0.5 * vol**2 * delta_T / (delta_X**2)\n",
    "    \n",
    "    dirichlet = np.zeros(N) \n",
    "    dirichlet[-1] = np.exp(xmax) - K * np.exp(-r * T)\n",
    "    band_mat = create_tridiagonal_matrix(a, [b, c], N)\n",
    "    prev_sol = dirichlet * b + np.dot(band_mat, initial_option_price)\n",
    "    for _ in range(N_T):\n",
    "        next_sol = dirichlet * b + np.dot(band_mat, prev_sol)\n",
    "        prev_sol = next_sol\n",
    "    \n",
    "    return  np.interp(np.log(S0), x, prev_sol)"
   ]
  },
  {
   "cell_type": "code",
   "execution_count": 330,
   "metadata": {},
   "outputs": [],
   "source": [
    "deltaTs = [0.1, 0.05, 0.02, 0.01, 0.005, 0.002, 0.001]\n",
    "option_price = []\n",
    "for delta_T in deltaTs:\n",
    "    y = euroOption_FTCS(delta_T, 110, 110, 0.3, 0.04, 1.0)\n",
    "    option_price.append(y)"
   ]
  },
  {
   "cell_type": "code",
   "execution_count": 338,
   "metadata": {},
   "outputs": [
    {
     "data": {
      "text/plain": [
       "Text(0, 0.5, 'Error')"
      ]
     },
     "execution_count": 338,
     "metadata": {},
     "output_type": "execute_result"
    },
    {
     "data": {
      "image/png": "[encoded data removed]",
      "text/plain": [
       "<Figure size 640x480 with 1 Axes>"
      ]
     },
     "metadata": {},
     "output_type": "display_data"
    }
   ],
   "source": [
    "plt.plot(1/np.array(deltaTs), option_price-blackScholes(110, 110, 0, 1, 0.04, 0.3, option_type = \"call\")[0])\n",
    "plt.xscale('log')\n",
    "plt.xlabel(\"Grid size\")\n",
    "plt.ylabel(\"Error\")\n"
   ]
  },
  {
   "cell_type": "markdown",
   "metadata": {},
   "source": [
    "### COS Method"
   ]
  },
  {
   "cell_type": "code",
   "execution_count": 339,
   "metadata": {},
   "outputs": [],
   "source": [
    "def function_Fn(n, r, b, a, vol, x, T):\n",
    "    first_term = np.exp(-0.5 * T * (vol * n * np.pi/(b-a))**2)\n",
    "    sec_term = np.cos((n * np.pi /(b - a)) * (x - a + (r - 0.5 * vol**2) * T))\n",
    "    return first_term * sec_term"
   ]
  },
  {
   "cell_type": "code",
   "execution_count": 340,
   "metadata": {},
   "outputs": [],
   "source": [
    "def function_Gn(K, a, b, n):\n",
    "    chi_prod_term = 1 / (1 + (n * np.pi / (b - a))**2)\n",
    "    chi_sec =  np.exp(b) * np.cos(n * np.pi) - np.cos(n * np.pi * a /(b - a)) + np.sin(n * np.pi * a / (b - a)) * (n * np.pi / (b - a))\n",
    "    chi = chi_prod_term * chi_sec\n",
    "    if n == 0:\n",
    "        phi = b\n",
    "    else:\n",
    "        phi = np.sin(n * np.pi * a / (b - a)) * (b - a) / (n * np.pi)\n",
    "        \n",
    "    return (chi - phi) * 2 * K/(b - a)"
   ]
  },
  {
   "cell_type": "code",
   "execution_count": 346,
   "metadata": {},
   "outputs": [],
   "source": [
    "def option_price_fourier(K, r, vol, T, a, b, N, x):\n",
    "    option_price = function_Gn(K, a, b, 0) * function_Fn(0, r, b, a, vol, x, T) * 0.5\n",
    "    for n in range(1, N):\n",
    "        option_price += function_Gn(K, a, b, n) * function_Fn(n, r, b, a, vol, x, T)\n",
    "    return option_price * np.exp(-r * T)\n"
   ]
  },
  {
   "cell_type": "code",
   "execution_count": 365,
   "metadata": {},
   "outputs": [
    {
     "data": {
      "text/plain": [
       "21.783607367825766"
      ]
     },
     "execution_count": 365,
     "metadata": {},
     "output_type": "execute_result"
    }
   ],
   "source": [
    "# truncation domain\n",
    "S0 = 120\n",
    "K = 110\n",
    "x = np.log(S0/K)\n",
    "a = 0.0 - 7 * np.sqrt(T)\n",
    "b = 0.0 + 7 * np.sqrt(T)\n",
    "option_price_fourier(K, r, vol, T, a, b, 64, x)"
   ]
  }
 ],
 "metadata": {
  "kernelspec": {
   "display_name": "Python 3",
   "language": "python",
   "name": "python3"
  },
  "language_info": {
   "codemirror_mode": {
    "name": "ipython",
    "version": 3
   },
   "file_extension": ".py",
   "mimetype": "text/x-python",
   "name": "python",
   "nbconvert_exporter": "python",
   "pygments_lexer": "ipython3",
   "version": "3.11.5"
  }
 },
 "nbformat": 4,
 "nbformat_minor": 2
}
