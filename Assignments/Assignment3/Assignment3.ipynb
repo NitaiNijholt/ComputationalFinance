{
 "cells": [
  {
   "cell_type": "code",
   "execution_count": 1,
   "metadata": {},
   "outputs": [],
   "source": [
    "import numpy as np\n",
    "from scipy.stats import norm\n",
    "import matplotlib.pyplot as plt\n",
    "from tqdm import tqdm\n"
   ]
  },
  {
   "cell_type": "code",
   "execution_count": 19,
   "metadata": {},
   "outputs": [],
   "source": [
    "def blackScholes(current_stock_price, strike_price, current_time, maturity_time, interest_rate, volatality, option_type = \"call\"):\n",
    "    \"\"\"\n",
    "    Function to calculate the price of the option using Black Scholes model\n",
    "\n",
    "    Args:\n",
    "        current_stock_price : Current stock price\n",
    "        strike_price : Strike price\n",
    "        current_time : Current time\n",
    "        maturity_time : Maturity time\n",
    "        interest_rate :  Risk free interest rate\n",
    "        volatality : Volatality of the stock\n",
    "\n",
    "    Returns:\n",
    "        Option_price : Price of the option at current time\n",
    "        delta : Delta value of the option\n",
    "    \"\"\"\n",
    "    \n",
    "    tao = maturity_time - current_time\n",
    "    d1 = (np.log(current_stock_price/strike_price) + (interest_rate + volatality**2/2) * tao)/(volatality*np.sqrt(tao))\n",
    "    d2 = d1 - volatality * np.sqrt(tao)\n",
    "    if option_type == \"put\":\n",
    "        option_price =  - current_stock_price * norm.cdf(-d1) + np.exp(-interest_rate * tao) * strike_price * norm.cdf(-d2)\n",
    "        delta = - norm.cdf(-d1)\n",
    "    if option_type == \"call\":\n",
    "        option_price = current_stock_price * norm.cdf(d1) - np.exp(-interest_rate * tao) * strike_price * norm.cdf(d2)\n",
    "        delta = norm.cdf(d1)\n",
    "    \n",
    "    \n",
    "    return option_price, delta "
   ]
  },
  {
   "cell_type": "code",
   "execution_count": 3,
   "metadata": {},
   "outputs": [],
   "source": [
    "def create_tridiagonal_matrix(main_diag_value, off_diag_value, size):\n",
    "    \"\"\"\n",
    "    Create a tridiagonal matrix with specified values on the main diagonal and off-diagonals.\n",
    "    \n",
    "    Parameters:\n",
    "        main_diag_value: Value of the main diagonal elements.\n",
    "        off_diag_value: Value of the off-diagonal elements.\n",
    "        size (int): Size of the square matrix.\n",
    "    \n",
    "    Returns:\n",
    "        numpy.ndarray: Tridiagonal matrix.\n",
    "    \"\"\"\n",
    "    # Create a zero-filled matrix of the specified size\n",
    "    tridiag_matrix = np.zeros((size, size))\n",
    "    \n",
    "    # Fill the main diagonal\n",
    "    np.fill_diagonal(tridiag_matrix, main_diag_value)\n",
    "    \n",
    "    # Fill the upper diagonal (above the main diagonal)\n",
    "    np.fill_diagonal(tridiag_matrix[1:], off_diag_value[1])\n",
    "    \n",
    "    # Fill the lower diagonal (below the main diagonal)\n",
    "    np.fill_diagonal(tridiag_matrix[:, 1:], off_diag_value[0])\n",
    "    \n",
    "    return tridiag_matrix"
   ]
  },
  {
   "cell_type": "code",
   "execution_count": 25,
   "metadata": {},
   "outputs": [],
   "source": [
    "def euroOption_FTCS(delta_X, S0, K, vol, r, T, bump = 1):\n",
    "    \n",
    "    delta_T = delta_X ** 2 / 4\n",
    "    N_T = int(T/delta_T)\n",
    "    Smax = 3 * K\n",
    "    Smin = K/3\n",
    "    xmax = np.log(Smax)\n",
    "    xmin = np.log(Smin)\n",
    "    N = int((xmax - xmin) / delta_X) + 1\n",
    "    x = np.linspace(xmin, xmax, N)\n",
    "    \n",
    "    initial_option_price = np.maximum(np.exp(x) - K, 0)\n",
    "    \n",
    "    a = 1 - vol**2 * delta_T / ( delta_X**2)  - r * delta_T                                     # main diagonal coefficient\n",
    "    b = (r - 0.5 * vol**2) * delta_T / (2 * delta_X) + 0.5 * vol**2 * delta_T / (delta_X**2)    # upper diagonal coefficient\n",
    "    c = - (r - 0.5 * vol**2) * delta_T / (2 * delta_X) + 0.5 * vol**2 * delta_T / (delta_X**2)  # lower diagonal coefficient\n",
    "    \n",
    "    dirichlet = np.zeros(N) \n",
    "    dirichlet[-1] = (np.exp(xmax) - K * np.exp(-r * T))\n",
    "    band_mat = create_tridiagonal_matrix(a, [c, b], N)\n",
    "    prev_sol = dirichlet * b + np.dot(band_mat, initial_option_price)\n",
    "    \n",
    "    for _ in range(N_T):\n",
    "        next_sol = np.dot(band_mat, prev_sol) + dirichlet * b\n",
    "        prev_sol = next_sol\n",
    "    \n",
    "    option_v = np.interp(np.log(S0), x, prev_sol)\n",
    "    option_v_bump = np.interp(np.log(S0 + bump), x, prev_sol)\n",
    "    delta = (option_v_bump - option_v) / bump\n",
    "    \n",
    "    return np.interp(np.log(S0), x, prev_sol), delta"
   ]
  },
  {
   "cell_type": "code",
   "execution_count": null,
   "metadata": {},
   "outputs": [],
   "source": [
    "deltaxs = [0.1, 0.05, 0.02, 0.01, 0.008, 0.006, 0.004, 0.002]\n",
    "option_price1 = []\n",
    "option_price2 = []\n",
    "option_price3 = []\n",
    "S0 = [100, 110, 120]\n",
    "K = 110\n",
    "T = 1.0\n",
    "r = 0.04\n",
    "sigma = 0.3\n",
    "for delta_x in tqdm(deltaxs):\n",
    "    y1, delta1 = euroOption_FTCS(delta_x, S0[0], K, vol=sigma, r=r, T=T)\n",
    "    y2, delta_2 = euroOption_FTCS(delta_x, S0[1], K, vol=sigma, r=r, T=T)\n",
    "    y3, delta_3 = euroOption_FTCS(delta_x, S0[2], K, vol=sigma, r=r, T=T)\n",
    "    option_price1.append(y1)\n",
    "    option_price2.append(y2)\n",
    "    option_price3.append(y3)\n",
    "Error1 = np.abs(np.array(option_price1) - blackScholes(S0[0], K, 0, T, r, sigma, option_type = \"call\")[0])\n",
    "Error2 = np.abs(np.array(option_price2) - blackScholes(S0[1], K, 0, T, r, sigma, option_type = \"call\")[0])\n",
    "Error3 = np.abs(np.array(option_price3) - blackScholes(S0[2], K, 0, T, r, sigma, option_type = \"call\")[0])"
   ]
  },
  {
   "cell_type": "code",
   "execution_count": null,
   "metadata": {},
   "outputs": [],
   "source": [
    "plt.figure(dpi=150)\n",
    "plt.plot(deltaxs, Error1, label = \"S0 = 100\", color = 'r')\n",
    "plt.plot(deltaxs, Error2, label = \"S0 = 110\", color = 'g')\n",
    "plt.plot(deltaxs, Error3, label = \"S0 = 120\", color = 'b')\n",
    "plt.xscale('log')\n",
    "plt.xlabel(\"Grid size\")\n",
    "plt.ylabel(\"Error\")\n",
    "plt.legend()"
   ]
  },
  {
   "cell_type": "markdown",
   "metadata": {},
   "source": [
    "#### Crank Nicolson"
   ]
  },
  {
   "cell_type": "code",
   "execution_count": null,
   "metadata": {},
   "outputs": [],
   "source": [
    "def cranknicoloson(delta_x, delta_t, r, vol, S0, K, T, bump = 1):\n",
    "    \n",
    "    N_T = int(T/delta_t)\n",
    "    Smax = 3 * K\n",
    "    Smin = K/3\n",
    "    xmax = np.log(Smax)\n",
    "    xmin = np.log(Smin)\n",
    "    N = int((xmax - xmin) / delta_x) + 1\n",
    "    x = np.linspace(xmin, xmax, N)\n",
    "    initial_option_price = np.maximum(np.exp(x) - K, 0)\n",
    "    \n",
    "    a1 = (r - 0.5 * vol**2) * delta_t / (4 * delta_x) - vol**2 * delta_t / (4 * delta_x**2)     # lower diagonal\n",
    "    a2 = 1 + vol**2 * delta_t / (2 * delta_x**2) + r * delta_t / 2                              # main diagonal\n",
    "    a3 = -(r - 0.5 * vol**2) * delta_t / (4 * delta_x) - vol**2 * delta_t / (4 * delta_x**2)    # upper diagonal\n",
    "    band_matA = create_tridiagonal_matrix(a2, [a1, a3], N)\n",
    "    \n",
    "    b1 = - (r - 0.5 * vol **2)*delta_t / (4 * delta_x) + vol**2 * delta_t / (4 * delta_x**2)    # lower diagonal\n",
    "    b2 = 1 - vol**2 * delta_t / (2 * delta_x**2) - r * delta_t / 2                               # main diagonal\n",
    "    b3 = (r-0.5 * vol**2) * delta_t / (4 * delta_x) + vol**2 * delta_t / (4 * delta_x**2)       # upper diagonal\n",
    "    band_matB = create_tridiagonal_matrix(b2, [b1, b3], N)\n",
    "    \n",
    "    dirichlet = np.zeros(N) \n",
    "    dirichlet[-1] = (np.exp(xmax) - K * np.exp(-r * T))\n",
    "    \n",
    "    #prev_sol =  np.dot(np.linalg.inv(band_matA), np.dot(band_matA, initial_option_price) + dirichlet * b3 - dirichlet * a3)\n",
    "    prev_sol = np.linalg.solve(band_matA, np.dot(band_matB, initial_option_price) + dirichlet * b3 - dirichlet * a3)\n",
    "    \n",
    "    for _ in range(N_T):\n",
    "        #next_sol = np.dot(np.linalg.inv(band_matA), np.dot(band_matB, prev_sol) + dirichlet * b3 - dirichlet * a3) \n",
    "        next_sol = np.linalg.solve(band_matA, np.dot(band_matB, prev_sol) + dirichlet * b3 - dirichlet * a3)\n",
    "        prev_sol = next_sol\n",
    "        \n",
    "    option_v = np.interp(np.log(S0), x, prev_sol)\n",
    "    option_v_bump = np.interp(np.log(S0 + bump), x, prev_sol)\n",
    "    delta = (option_v_bump - option_v) / bump\n",
    "        \n",
    "    return  np.interp(S0, np.exp(x), prev_sol), delta\n",
    "    "
   ]
  },
  {
   "cell_type": "code",
   "execution_count": null,
   "metadata": {},
   "outputs": [],
   "source": [
    "cranknicoloson(0.001, 0.001,r, sigma, 100, 110, T)"
   ]
  },
  {
   "cell_type": "code",
   "execution_count": null,
   "metadata": {},
   "outputs": [],
   "source": [
    "deltaxs = [0.1, 0.05, 0.02, 0.01, 0.008, 0.006, 0.004, 0.002]\n",
    "option_price1_c = []\n",
    "option_price2_c = []\n",
    "option_price3_c = []\n",
    "S0 = [100, 110, 120]\n",
    "K = 110\n",
    "T = 1.0\n",
    "r = 0.04\n",
    "sigma = 0.3\n",
    "for delta_x in tqdm(deltaxs):\n",
    "    y1_C = cranknicoloson(delta_x, delta_x**2, r, sigma, S0[0], K, T)\n",
    "    y2_C = cranknicoloson(delta_x, delta_x**2, r, sigma, S0[1], K, T)\n",
    "    y3_C= cranknicoloson(delta_x, delta_x**2, r, sigma, S0[2], K, T)\n",
    "    option_price1_c.append(y1_C)\n",
    "    option_price2_c.append(y2_C)\n",
    "    option_price3_c.append(y3_C)\n",
    "Error1_C = np.abs(np.array(option_price1_c) - blackScholes(S0[0], K, 0, T, r, sigma, option_type = \"call\")[0])\n",
    "Error2_C = np.abs(np.array(option_price2_c) - blackScholes(S0[1], K, 0, T, r, sigma, option_type = \"call\")[0])\n",
    "Error3_C = np.abs(np.array(option_price3_c) - blackScholes(S0[2], K, 0, T, r, sigma, option_type = \"call\")[0])"
   ]
  },
  {
   "cell_type": "code",
   "execution_count": null,
   "metadata": {},
   "outputs": [],
   "source": [
    "option_price1_c[-1], option_price2_c[-1], option_price3_c[-1], option_price1[-1], option_price2[-1], option_price3[-1]"
   ]
  },
  {
   "cell_type": "code",
   "execution_count": null,
   "metadata": {},
   "outputs": [],
   "source": [
    "Error1_C = np.abs(np.array(option_price1_c) - blackScholes(S0[0], K, 0, T, r, sigma, option_type = \"call\")[0])\n",
    "Error2_C = np.abs(np.array(option_price2_c) - blackScholes(S0[1], K, 0, T, r, sigma, option_type = \"call\")[0])\n",
    "Error3_C = np.abs(np.array(option_price3_c) - blackScholes(S0[2], K, 0, T, r, sigma, option_type = \"call\")[0])"
   ]
  },
  {
   "cell_type": "code",
   "execution_count": null,
   "metadata": {},
   "outputs": [],
   "source": [
    "plt.figure(dpi=150)\n",
    "plt.plot(deltaxs[:-1], Error1_C, label = \"CN S0 = 100\")\n",
    "plt.plot(deltaxs[:-1], Error2_C, label = \"CN S0 = 110\")\n",
    "plt.plot(deltaxs[:-1], Error3_C, label = \"CN S0 = 120\")\n",
    "plt.xscale('log')\n",
    "plt.xlabel(\"delta x\")\n",
    "plt.ylabel(\"Error\")\n",
    "plt.plot(deltaxs, Error1, label = \"FCTS S0 = 100\")\n",
    "plt.plot(deltaxs, Error2, label = \"FCTS S0 = 110\")\n",
    "plt.plot(deltaxs, Error3, label = \"FCTS S0 = 120\")\n",
    "plt.legend()\n"
   ]
  },
  {
   "cell_type": "markdown",
   "metadata": {},
   "source": [
    "### COS Method"
   ]
  },
  {
   "cell_type": "code",
   "execution_count": null,
   "metadata": {},
   "outputs": [],
   "source": [
    "def function_Fn(n, r, b, a, vol, x, T):\n",
    "    first_term = np.exp(-0.5 * T * (vol * n * np.pi/(b-a))**2)\n",
    "    sec_term = np.cos((n * np.pi /(b - a)) * (x - a + (r - 0.5 * vol**2) * T))\n",
    "    return first_term * sec_term"
   ]
  },
  {
   "cell_type": "code",
   "execution_count": null,
   "metadata": {},
   "outputs": [],
   "source": [
    "def function_Gn(K, a, b, n):\n",
    "    chi_prod_term = 1 / (1 + (n * np.pi / (b - a))**2)\n",
    "    chi_sec =  np.exp(b) * np.cos(n * np.pi) - np.cos(n * np.pi * a /(b - a)) + np.sin(n * np.pi * a / (b - a)) * (n * np.pi / (b - a))\n",
    "    chi = chi_prod_term * chi_sec\n",
    "    if n == 0:\n",
    "        phi = b\n",
    "    else:\n",
    "        phi = np.sin(n * np.pi * a / (b - a)) * (b - a) / (n * np.pi)\n",
    "        \n",
    "    return (chi - phi) * 2 * K/(b - a)"
   ]
  },
  {
   "cell_type": "code",
   "execution_count": null,
   "metadata": {},
   "outputs": [],
   "source": [
    "def option_price_fourier(K, r, vol, T, a, b, N, x):\n",
    "    option_price = function_Gn(K, a, b, 0) * function_Fn(0, r, b, a, vol, x, T) * 0.5\n",
    "    for n in range(1, N):\n",
    "        option_price += function_Gn(K, a, b, n) * function_Fn(n, r, b, a, vol, x, T)\n",
    "    return option_price * np.exp(-r * T)\n"
   ]
  },
  {
   "cell_type": "code",
   "execution_count": null,
   "metadata": {},
   "outputs": [],
   "source": [
    "# truncation domain\n",
    "S0 = 120\n",
    "K = 110\n",
    "x = np.log(S0/K)\n",
    "vol = 0.3\n",
    "r = 0.04\n",
    "a = 0.0 - 7 * np.sqrt(T)\n",
    "b = 0.0 + 7 * np.sqrt(T)\n",
    "option_price_fourier(K, r, vol, T, a, b, 64, x)"
   ]
  },
  {
   "cell_type": "markdown",
   "metadata": {},
   "source": [
    " ### Truncation error "
   ]
  },
  {
   "cell_type": "code",
   "execution_count": null,
   "metadata": {},
   "outputs": [],
   "source": [
    "N = np.arange(20, 100, 2)\n",
    "option_price1_cos = []\n",
    "option_price2_cos = []\n",
    "option_price3_cos = []\n",
    "S0 = [100, 110, 120]\n",
    "K = 110\n",
    "T = 1.0\n",
    "r = 0.04\n",
    "l = 4\n",
    "sigma = 0.3\n",
    "for n in tqdm(N):\n",
    "    y1_Cos = option_price_fourier(K, r, vol, T, -l, l, n , np.log(S0[0]/K))\n",
    "    y2_Cos = option_price_fourier(K, r, vol, T, -l, l, n , np.log(S0[1]/K))\n",
    "    y3_Cos = option_price_fourier(K, r, vol, T, -l, l, n , np.log(S0[2]/K))\n",
    "    option_price1_cos.append(y1_Cos)\n",
    "    option_price2_cos.append(y2_Cos)\n",
    "    option_price3_cos.append(y3_Cos)\n",
    "Error1_Cos = np.abs(np.array(option_price1_cos) - blackScholes(S0[0], K, 0, T, r, sigma, option_type = \"call\")[0])\n",
    "Error2_Cos = np.abs(np.array(option_price2_cos) - blackScholes(S0[1], K, 0, T, r, sigma, option_type = \"call\")[0])\n",
    "Error3_Cos = np.abs(np.array(option_price3_cos) - blackScholes(S0[2], K, 0, T, r, sigma, option_type = \"call\")[0])"
   ]
  },
  {
   "cell_type": "code",
   "execution_count": null,
   "metadata": {},
   "outputs": [],
   "source": [
    "plt.figure(dpi=150)\n",
    "plt.plot(N, Error1_Cos, label = \"S0 = 100\")\n",
    "plt.plot(N, Error2_Cos, label = \"S0 = 110\")\n",
    "plt.plot(N, Error3_Cos, label = \"S0 = 120\")\n",
    "plt.yscale('log')\n",
    "plt.xlabel(\"N\")\n",
    "plt.ylabel(\"Error\")\n",
    "plt.legend()\n",
    "plt.savefig(\"error_cos_N.png\")"
   ]
  },
  {
   "cell_type": "code",
   "execution_count": null,
   "metadata": {},
   "outputs": [],
   "source": [
    "L = np.arange(1, 9, 1)\n",
    "option_price1_cos2 = []\n",
    "option_price2_cos2 = []\n",
    "option_price3_cos2 = []\n",
    "S0 = [100, 110, 120]\n",
    "K = 110\n",
    "T = 1.0\n",
    "r = 0.04\n",
    "sigma = 0.3\n",
    "N = 64  \n",
    "for l in tqdm(L):\n",
    "    y1_Cos2 = option_price_fourier(K, r, vol, T, -l, l, N , np.log(S0[0]/K))\n",
    "    y2_Cos2 = option_price_fourier(K, r, vol, T, -l, l, N , np.log(S0[1]/K))\n",
    "    y3_Cos2 = option_price_fourier(K, r, vol, T, -l, l, N , np.log(S0[2]/K))\n",
    "    option_price1_cos2.append(y1_Cos2)\n",
    "    option_price2_cos2.append(y2_Cos2)\n",
    "    option_price3_cos2.append(y3_Cos2)\n",
    "Error1_Cos2 = np.abs(np.array(option_price1_cos2) - blackScholes(S0[0], K, 0, T, r, sigma, option_type = \"call\")[0])\n",
    "Error2_Cos2 = np.abs(np.array(option_price2_cos2) - blackScholes(S0[1], K, 0, T, r, sigma, option_type = \"call\")[0])\n",
    "Error3_Cos2 = np.abs(np.array(option_price3_cos2) - blackScholes(S0[2], K, 0, T, r, sigma, option_type = \"call\")[0])"
   ]
  },
  {
   "cell_type": "code",
   "execution_count": null,
   "metadata": {},
   "outputs": [],
   "source": [
    "plt.figure(dpi=150) \n",
    "plt.plot(L, Error1_Cos2, label = \"S0 = 100\")\n",
    "plt.plot(L, Error2_Cos2, label = \"S0 = 110\")\n",
    "plt.plot(L, Error3_Cos2, label = \"S0 = 120\")\n",
    "plt.yscale('log')\n",
    "plt.xlabel(\"L\")\n",
    "plt.ylabel(\"Error\")\n",
    "plt.legend()\n",
    "plt.savefig(\"error_cos_l.png\")\n",
    "plt.show()"
   ]
  }
 ],
 "metadata": {
  "kernelspec": {
   "display_name": "Python 3",
   "language": "python",
   "name": "python3"
  },
  "language_info": {
   "codemirror_mode": {
    "name": "ipython",
    "version": 3
   },
   "file_extension": ".py",
   "mimetype": "text/x-python",
   "name": "python",
   "nbconvert_exporter": "python",
   "pygments_lexer": "ipython3",
   "version": "3.11.5"
  }
 },
 "nbformat": 4,
 "nbformat_minor": 2
}
