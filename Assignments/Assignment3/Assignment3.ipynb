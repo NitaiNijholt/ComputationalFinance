{
 "cells": [
  {
   "cell_type": "code",
   "execution_count": 1,
   "metadata": {},
   "outputs": [],
   "source": [
    "import numpy as np\n",
    "from scipy.stats import norm\n",
    "import matplotlib.pyplot as plt\n",
    "from tqdm import tqdm\n"
   ]
  },
  {
   "cell_type": "code",
   "execution_count": 2,
   "metadata": {},
   "outputs": [],
   "source": [
    "def blackScholes(current_stock_price, strike_price, current_time, maturity_time, interest_rate, volatality, option_type = \"put\"):\n",
    "    \"\"\"\n",
    "    Function to calculate the price of the option using Black Scholes model\n",
    "\n",
    "    Args:\n",
    "        current_stock_price : Current stock price\n",
    "        strike_price : Strike price\n",
    "        current_time : Current time\n",
    "        maturity_time : Maturity time\n",
    "        interest_rate :  Risk free interest rate\n",
    "        volatality : Volatality of the stock\n",
    "\n",
    "    Returns:\n",
    "        Option_price : Price of the option at current time\n",
    "        delta : Delta value of the option\n",
    "    \"\"\"\n",
    "    \n",
    "    tao = maturity_time - current_time\n",
    "    d1 = (np.log(current_stock_price/strike_price) + (interest_rate + volatality**2/2) * tao)/(volatality*np.sqrt(tao))\n",
    "    d2 = d1 - volatality * np.sqrt(tao)\n",
    "    if option_type == \"put\":\n",
    "        option_price =  - current_stock_price * norm.cdf(-d1) + np.exp(-interest_rate * tao) * strike_price * norm.cdf(-d2)\n",
    "        delta = - norm.cdf(-d1)\n",
    "    if option_type == \"call\":\n",
    "        option_price = current_stock_price * norm.cdf(d1) - np.exp(-interest_rate * tao) * strike_price * norm.cdf(d2)\n",
    "        delta = norm.cdf(d1)\n",
    "    \n",
    "    \n",
    "    return option_price, delta "
   ]
  },
  {
   "cell_type": "code",
   "execution_count": 3,
   "metadata": {},
   "outputs": [],
   "source": [
    "def create_tridiagonal_matrix(main_diag_value, off_diag_value, size):\n",
    "    \"\"\"\n",
    "    Create a tridiagonal matrix with specified values on the main diagonal and off-diagonals.\n",
    "    \n",
    "    Parameters:\n",
    "        main_diag_value: Value of the main diagonal elements.\n",
    "        off_diag_value: Value of the off-diagonal elements.\n",
    "        size (int): Size of the square matrix.\n",
    "    \n",
    "    Returns:\n",
    "        numpy.ndarray: Tridiagonal matrix.\n",
    "    \"\"\"\n",
    "    # Create a zero-filled matrix of the specified size\n",
    "    tridiag_matrix = np.zeros((size, size))\n",
    "    \n",
    "    # Fill the main diagonal\n",
    "    np.fill_diagonal(tridiag_matrix, main_diag_value)\n",
    "    \n",
    "    # Fill the upper diagonal (above the main diagonal)\n",
    "    np.fill_diagonal(tridiag_matrix[1:], off_diag_value[1])\n",
    "    \n",
    "    # Fill the lower diagonal (below the main diagonal)\n",
    "    np.fill_diagonal(tridiag_matrix[:, 1:], off_diag_value[0])\n",
    "    \n",
    "    return tridiag_matrix"
   ]
  },
  {
   "cell_type": "code",
   "execution_count": 7,
   "metadata": {},
   "outputs": [],
   "source": [
    "def euroOption_FTCS(delta_X, S0, K, vol, r, T):\n",
    "    \n",
    "    delta_T = delta_X ** 2 / 4\n",
    "    N_T = int(T/delta_T)\n",
    "    Smax = 3 * K\n",
    "    Smin = K/3\n",
    "    xmax = np.log(Smax)\n",
    "    xmin = np.log(Smin)\n",
    "    N = int((xmax - xmin) / delta_X) + 1\n",
    "    x = np.linspace(xmin, xmax, N)\n",
    "    \n",
    "    initial_option_price = np.maximum(np.exp(x) - K, 0)\n",
    "    \n",
    "    a = 1 - vol**2 * delta_T / ( delta_X**2)  - r * delta_T                                     # main diagonal coefficient\n",
    "    b = (r - 0.5 * vol**2) * delta_T / (2 * delta_X) + 0.5 * vol**2 * delta_T / (delta_X**2)    # upper diagonal coefficient\n",
    "    c = - (r - 0.5 * vol**2) * delta_T / (2 * delta_X) + 0.5 * vol**2 * delta_T / (delta_X**2)  # lower diagonal coefficient\n",
    "    \n",
    "    dirichlet = np.zeros(N) \n",
    "    dirichlet[-1] = (np.exp(xmax) - K * np.exp(-r * T)) * b\n",
    "    band_mat = create_tridiagonal_matrix(a, [c, b], N)\n",
    "    prev_sol = dirichlet * b + np.dot(band_mat, initial_option_price)\n",
    "    \n",
    "    for _ in range(N_T):\n",
    "        next_sol = np.dot(band_mat, prev_sol) + dirichlet * b\n",
    "        prev_sol = next_sol\n",
    "        \n",
    "    return np.interp(np.log(S0), x, prev_sol)"
   ]
  },
  {
   "cell_type": "code",
   "execution_count": 11,
   "metadata": {},
   "outputs": [
    {
     "name": "stderr",
     "output_type": "stream",
     "text": [
      "100%|██████████| 12/12 [15:26<00:00, 77.18s/it] \n"
     ]
    }
   ],
   "source": [
    "deltaxs = [0.1, 0.09, 0.08, 0.07, 0.06, 0.05, 0.02, 0.01, 0.006, 0.005, 0.004, 0.003, 0.002]\n",
    "option_price1 = []\n",
    "option_price2 = []\n",
    "option_price3 = []\n",
    "S0 = [100, 110, 120]\n",
    "K = 110\n",
    "T = 1.0\n",
    "r = 0.04\n",
    "sigma = 0.3\n",
    "for delta_x in tqdm(deltaxs):\n",
    "    y1 = euroOption_FTCS(delta_x, S0[0], K, vol=sigma, r=r, T=T)\n",
    "    y2 = euroOption_FTCS(delta_x, S0[1], K, vol=sigma, r=r, T=T)\n",
    "    y3 = euroOption_FTCS(delta_x, S0[2], K, vol=sigma, r=r, T=T)\n",
    "    option_price1.append(y1)\n",
    "    option_price2.append(y2)\n",
    "    option_price3.append(y3)\n",
    "Error1 = np.abs(np.array(option_price1) - blackScholes(S0[0], K, 0, T, r, sigma, option_type = \"call\")[0])\n",
    "Error2 = np.abs(np.array(option_price2) - blackScholes(S0[1], K, 0, T, r, sigma, option_type = \"call\")[0])\n",
    "Error3 = np.abs(np.array(option_price3) - blackScholes(S0[2], K, 0, T, r, sigma, option_type = \"call\")[0])"
   ]
  },
  {
   "cell_type": "code",
   "execution_count": 12,
   "metadata": {},
   "outputs": [
    {
     "data": {
      "text/plain": [
       "<matplotlib.legend.Legend at 0x130a33c10>"
      ]
     },
     "execution_count": 12,
     "metadata": {},
     "output_type": "execute_result"
    },
    {
     "data": {
      "image/png": "[encoded data removed]",
      "text/plain": [
       "<Figure size 640x480 with 1 Axes>"
      ]
     },
     "metadata": {},
     "output_type": "display_data"
    }
   ],
   "source": [
    "plt.plot(deltaxs, Error1, label = \"S0 = 100\", color = 'r')\n",
    "plt.plot(deltaxs, Error2, label = \"S0 = 110\", color = 'g')\n",
    "plt.plot(deltaxs, Error3, label = \"S0 = 120\", color = 'b')\n",
    "plt.xscale('log')\n",
    "plt.xlabel(\"Grid size\")\n",
    "plt.ylabel(\"Error\")\n",
    "plt.legend()\n"
   ]
  },
  {
   "cell_type": "markdown",
   "metadata": {},
   "source": [
    "#### Crank Nicolson"
   ]
  },
  {
   "cell_type": "code",
   "execution_count": 13,
   "metadata": {},
   "outputs": [],
   "source": [
    "def cranknicoloson(delta_x, delta_t, r, vol, S0, K, T):\n",
    "    \n",
    "    N_T = int(T/delta_t)\n",
    "    print(N_T)\n",
    "    Smax = 3 * K\n",
    "    Smin = K/3\n",
    "    xmax = np.log(Smax)\n",
    "    xmin = np.log(Smin)\n",
    "    N = int((xmax - xmin) / delta_x) + 1\n",
    "    print(N)\n",
    "    x = np.linspace(xmin, xmax, N)\n",
    "    initial_option_price = np.maximum(np.exp(x) - K, 0)\n",
    "    \n",
    "    a1 = (r - 0.5 * vol**2) * delta_t / (4 * delta_x) - vol**2 * delta_t / (4 * delta_x**2)     # lower diagonal\n",
    "    a2 = 1 + vol**2 * delta_t / (2 * delta_x**2) + r * delta_t / 2                              # main diagonal\n",
    "    a3 = -(r - 0.5 * vol**2) * delta_t / (4 * delta_x) - vol**2 * delta_t / (4 * delta_x**2)    # upper diagonal\n",
    "    band_matA = create_tridiagonal_matrix(a2, [a1, a3], N)\n",
    "    \n",
    "    b1 = - (r - 0.5 * vol **2)*delta_t / (4 * delta_x) + vol**2 * delta_t / (4 * delta_x**2)    # lower diagonal\n",
    "    b2 = 1 - vol**2 * delta_t / (2 * delta_x**2) - r * delta_t / 2                               # main diagonal\n",
    "    b3 = (r-0.5 * vol**2) * delta_t / (4 * delta_x) + vol**2 * delta_t / (4 * delta_x**2)       # upper diagonal\n",
    "    band_matB = create_tridiagonal_matrix(b2, [b1, b3], N)\n",
    "    \n",
    "    dirichlet = np.zeros(N) \n",
    "    dirichlet[-1] = (np.exp(xmax) - K * np.exp(-r * T))\n",
    "    \n",
    "    prev_sol =  np.dot(np.linalg.inv(band_matA), np.dot(band_matA, initial_option_price) + dirichlet * b3 - dirichlet * a3)\n",
    "    \n",
    "    for _ in range(N_T):\n",
    "        next_sol = np.dot(np.linalg.inv(band_matA), np.dot(band_matB, prev_sol) + dirichlet * b3 - dirichlet * a3) \n",
    "        prev_sol = next_sol\n",
    "    \n",
    "    return   np.interp(np.log(S0), x, prev_sol)\n",
    "    "
   ]
  },
  {
   "cell_type": "code",
   "execution_count": 18,
   "metadata": {},
   "outputs": [
    {
     "data": {
      "text/plain": [
       "9.625357828843697"
      ]
     },
     "execution_count": 18,
     "metadata": {},
     "output_type": "execute_result"
    }
   ],
   "source": [
    "blackScholes(100, 110, 0, T, r, sigma, option_type = \"call\")[0]"
   ]
  },
  {
   "cell_type": "code",
   "execution_count": 25,
   "metadata": {},
   "outputs": [
    {
     "name": "stdout",
     "output_type": "stream",
     "text": [
      "500\n",
      "1099\n"
     ]
    },
    {
     "data": {
      "text/plain": [
       "10.130686648612945"
      ]
     },
     "execution_count": 25,
     "metadata": {},
     "output_type": "execute_result"
    }
   ],
   "source": [
    "cranknicoloson(0.002, 0.002 ,r, sigma, 100, 110, T)"
   ]
  },
  {
   "cell_type": "markdown",
   "metadata": {},
   "source": [
    "### COS Method"
   ]
  },
  {
   "cell_type": "code",
   "execution_count": null,
   "metadata": {},
   "outputs": [],
   "source": [
    "def function_Fn(n, r, b, a, vol, x, T):\n",
    "    first_term = np.exp(-0.5 * T * (vol * n * np.pi/(b-a))**2)\n",
    "    sec_term = np.cos((n * np.pi /(b - a)) * (x - a + (r - 0.5 * vol**2) * T))\n",
    "    return first_term * sec_term"
   ]
  },
  {
   "cell_type": "code",
   "execution_count": null,
   "metadata": {},
   "outputs": [],
   "source": [
    "def function_Gn(K, a, b, n):\n",
    "    chi_prod_term = 1 / (1 + (n * np.pi / (b - a))**2)\n",
    "    chi_sec =  np.exp(b) * np.cos(n * np.pi) - np.cos(n * np.pi * a /(b - a)) + np.sin(n * np.pi * a / (b - a)) * (n * np.pi / (b - a))\n",
    "    chi = chi_prod_term * chi_sec\n",
    "    if n == 0:\n",
    "        phi = b\n",
    "    else:\n",
    "        phi = np.sin(n * np.pi * a / (b - a)) * (b - a) / (n * np.pi)\n",
    "        \n",
    "    return (chi - phi) * 2 * K/(b - a)"
   ]
  },
  {
   "cell_type": "code",
   "execution_count": null,
   "metadata": {},
   "outputs": [],
   "source": [
    "def option_price_fourier(K, r, vol, T, a, b, N, x):\n",
    "    option_price = function_Gn(K, a, b, 0) * function_Fn(0, r, b, a, vol, x, T) * 0.5\n",
    "    for n in range(1, N):\n",
    "        option_price += function_Gn(K, a, b, n) * function_Fn(n, r, b, a, vol, x, T)\n",
    "    return option_price * np.exp(-r * T)\n"
   ]
  },
  {
   "cell_type": "code",
   "execution_count": null,
   "metadata": {},
   "outputs": [],
   "source": [
    "# truncation domain\n",
    "S0 = 120\n",
    "K = 110\n",
    "x = np.log(S0/K)\n",
    "vol = 0.3\n",
    "r = 0.04\n",
    "a = 0.0 - 7 * np.sqrt(T)\n",
    "b = 0.0 + 7 * np.sqrt(T)\n",
    "option_price_fourier(K, r, vol, T, a, b, 64, x)"
   ]
  },
  {
   "cell_type": "code",
   "execution_count": null,
   "metadata": {},
   "outputs": [],
   "source": []
  },
  {
   "cell_type": "code",
   "execution_count": null,
   "metadata": {},
   "outputs": [],
   "source": []
  }
 ],
 "metadata": {
  "kernelspec": {
   "display_name": "Python 3",
   "language": "python",
   "name": "python3"
  },
  "language_info": {
   "codemirror_mode": {
    "name": "ipython",
    "version": 3
   },
   "file_extension": ".py",
   "mimetype": "text/x-python",
   "name": "python",
   "nbconvert_exporter": "python",
   "pygments_lexer": "ipython3",
   "version": "3.11.5"
  }
 },
 "nbformat": 4,
 "nbformat_minor": 2
}
