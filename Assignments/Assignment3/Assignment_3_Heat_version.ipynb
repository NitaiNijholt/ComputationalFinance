{
 "cells": [
  {
   "cell_type": "markdown",
   "metadata": {},
   "source": [
    "# Assignment 3"
   ]
  },
  {
   "cell_type": "code",
   "execution_count": 11,
   "metadata": {},
   "outputs": [],
   "source": [
    "# imports\n",
    "import numpy as np\n",
    "import scipy.linalg as linag\n",
    "import pandas as pd\n",
    "import matplotlib.pyplot as plt\n",
    "from scipy.interpolate import interp1d\n",
    "from scipy.stats import norm\n",
    "from numba import njit"
   ]
  },
  {
   "cell_type": "code",
   "execution_count": 12,
   "metadata": {},
   "outputs": [],
   "source": [
    "def black_scholes(S, K, T, r, sigma, type='call'):\n",
    "    \"\"\"Price Black-Scholes option\"\"\"\n",
    "\n",
    "    d1 = (np.log(S / K) + (r + 0.5 * sigma**2) * T) / (sigma * np.sqrt(T))\n",
    "    d2 = d1 - sigma * np.sqrt(T)\n",
    "\n",
    "    if type == 'call':\n",
    "        option_price = S * norm.cdf(d1) - K * np.exp(-r * T) * norm.cdf(d2)\n",
    "    elif type == 'put':\n",
    "        option_price = K * np.exp(-r * T) * norm.cdf(-d2) - S * norm.cdf(-d1)\n",
    "\n",
    "    return option_price"
   ]
  },
  {
   "cell_type": "code",
   "execution_count": 13,
   "metadata": {},
   "outputs": [],
   "source": [
    "@njit\n",
    "def create_tri_diagonal_matrix(a,b,c, size):\n",
    "    matrix = np.zeros(size)\n",
    "\n",
    "    np.fill_diagonal(matrix[1:], a)  # superdiagonal\n",
    "    np.fill_diagonal(matrix, b) # diagonal\n",
    "    np.fill_diagonal(matrix[:, 1:], c)  # subdiagonal\n",
    "    \n",
    "    return matrix"
   ]
  },
  {
   "cell_type": "code",
   "execution_count": 14,
   "metadata": {},
   "outputs": [
    {
     "name": "stdout",
     "output_type": "stream",
     "text": [
      "[[2. 3. 0. 0. 0. 0. 0. 0. 0. 0.]\n",
      " [1. 2. 3. 0. 0. 0. 0. 0. 0. 0.]\n",
      " [0. 1. 2. 3. 0. 0. 0. 0. 0. 0.]\n",
      " [0. 0. 1. 2. 3. 0. 0. 0. 0. 0.]\n",
      " [0. 0. 0. 1. 2. 3. 0. 0. 0. 0.]\n",
      " [0. 0. 0. 0. 1. 2. 3. 0. 0. 0.]\n",
      " [0. 0. 0. 0. 0. 1. 2. 3. 0. 0.]\n",
      " [0. 0. 0. 0. 0. 0. 1. 2. 3. 0.]\n",
      " [0. 0. 0. 0. 0. 0. 0. 1. 2. 3.]\n",
      " [0. 0. 0. 0. 0. 0. 0. 0. 1. 2.]]\n"
     ]
    }
   ],
   "source": [
    "test_matrix = create_tri_diagonal_matrix(1,2,3, (10,10))\n",
    "print(test_matrix)"
   ]
  },
  {
   "cell_type": "code",
   "execution_count": 15,
   "metadata": {},
   "outputs": [],
   "source": [
    "@njit\n",
    "def FTCS_vectorized(init, M, N, r, sigma, xmin, xmax, T, q, boundary_condition = 'Dirichlet'):\n",
    "    y_current = init.copy()\n",
    "    y_next = np.zeros_like(y_current)\n",
    "    dx = (xmax - xmin) / M\n",
    "    dt = T / N\n",
    "\n",
    "    lambda_const = 0.5 * sigma**2 * dt / dx**2\n",
    "\n",
    "    # Checking the CFL condition value\n",
    "    cfl_value = lambda_const\n",
    "\n",
    "    if lambda_const > 0.5:\n",
    "        ValueError('Warning, CFL condition indicates unstability, choose a different ratio of delta t and delta x')\n",
    "\n",
    "\n",
    "\n",
    "    # Create the vector coefficients vectors on the tri-diagonal according to the slide 24, lecture: https://canvas.uva.nl/courses/42579/files/10468265?module_item_id=1984428\n",
    "    a = lambda_const\n",
    "    b = 1- 2* lambda_const\n",
    "    c = lambda_const\n",
    "\n",
    "    \n",
    "    A = create_tri_diagonal_matrix(a,b,c, (M + 1, M + 1))  # create tridiagonal matrix\n",
    "\n",
    "\n",
    "    for step in range(N-1):\n",
    "        if boundary_condition == 'Dirichlet':\n",
    "\n",
    "            # Only entry we need to modify for boundary condition is j = M, as j=1 will be set to 0 by the boundary conditions and thus can be omitted.\n",
    "            # Create the vector k which carries modiefied j = M boundary condition according to the slide 25, lecture: https://canvas.uva.nl/courses/42579/files/10468265?module_item_id=1984428\n",
    "            k = np.zeros(y_current.shape[0])\n",
    "            tau_n = (N-1) * dt  \n",
    "            # Apply the computed k value to the last element in y_next, adjusted for the boundary condition\n",
    "            k[-1] = (np.exp(xmax) - np.exp(-q * tau_n)) * np.exp(0.5 * (q - 1) * xmax + 0.25 * (q + 1)**2 * tau_n)\n",
    "\n",
    "            # Solve the linear system y_next = A y_current + k\n",
    "            y_next = A @ y_current + k\n",
    "\n",
    "        if boundary_condition == 'Neumann':\n",
    "            # Might implement later\n",
    "            pass\n",
    "        \n",
    "        # Prepare for the next step\n",
    "        y_current = y_next.copy()\n",
    "        \n",
    "    return y_next\n"
   ]
  },
  {
   "cell_type": "code",
   "execution_count": 16,
   "metadata": {},
   "outputs": [],
   "source": [
    "@njit\n",
    "def Crank_Nicolson_Vectorized(init, M, N, r, sigma, xmin, xmax, T, q, boundary_condition = 'Dirichlet'):\n",
    "    y_current = init.copy()\n",
    "    y_next = np.zeros_like(y_current)\n",
    "    dx = (xmax - xmin) / M\n",
    "    dt = T / N\n",
    "\n",
    "    lambda_const = 0.5 * sigma**2 * dt / dx**2 \n",
    "\n",
    "    # Checking the CFL condition value\n",
    "    cfl_value = lambda_const\n",
    "    \n",
    "    if lambda_const > 0.5:\n",
    "        ValueError('Warning, CFL condition indicates unstability, choose a different ratio of delta t and delta x')\n",
    "        \n",
    "    # Create the vector coefficients vectors on the tri-diagonal according to the slide 31, lecture: https://canvas.uva.nl/courses/42579/files/10468265?module_item_id=1984428\n",
    "        \n",
    "    # Coefficients for A\n",
    "    a = -lambda_const/2\n",
    "    b = 1 +  lambda_const\n",
    "    c = -lambda_const/2\n",
    "\n",
    "    # Coefficients for B\n",
    "    d = lambda_const/2\n",
    "    e = 1 -  lambda_const\n",
    "    f = lambda_const/2\n",
    "\n",
    "\n",
    "    A = create_tri_diagonal_matrix(a,b,c, (M + 1, M + 1))  # create tridiagonal matrix A (forward in time)\n",
    "\n",
    "    B = create_tri_diagonal_matrix(d,e,f, (M + 1, M + 1))  # create tridiagonal matrix B (backward in time)\n",
    "\n",
    "    for step in range(N-1):\n",
    "        if boundary_condition == 'Dirichlet':\n",
    "            # Only entry we need to modify for boundary condition is j = M, as Y0 will be set by 0 by the boundary conditions and thus can be omitted.\n",
    "            # Create the vector k which carries modiefied j = M boundary condition according to the slide 25, lecture: https://canvas.uva.nl/courses/42579/files/10468265?module_item_id=1984428\n",
    "            k = np.zeros(y_current.shape[0])\n",
    "            tau_n = (N-1) * dt  \n",
    "            # Apply the computed k value to the last element in y_next, adjusted for the boundary condition\n",
    "            k[-1] = (np.exp(xmax) - np.exp(-q * tau_n)) * np.exp(0.5 * (q - 1) * xmax + 0.25 * (q + 1)**2 * tau_n)\n",
    "\n",
    "            # Solve the linear system A y_next = B y_current + k\n",
    "            y_next = np.linalg.solve(A, B @ y_current + k)\n",
    "\n",
    "        if boundary_condition == 'Neumann':\n",
    "            # Might implement later\n",
    "            pass\n",
    "        \n",
    "        # Prepare for the next step\n",
    "        y_current = y_next.copy()\n",
    "        \n",
    "    return y_next\n"
   ]
  },
  {
   "cell_type": "code",
   "execution_count": 17,
   "metadata": {},
   "outputs": [],
   "source": [
    "def transform_solution(results, r, sigma, S0, K, T, Smin, Smax, xmin, xmax, M, N, a, b, q):\n",
    "    # Generate the grid for x (log(S/K)) and transform results back to option price V\n",
    "    x = np.linspace(xmin, xmax, M + 1)  # x grid for log(S/K)\n",
    "    \n",
    "    # Calculate transformation parameters (should be consistent with PDE transformation)\n",
    "    a = 0.5 * (q - 1)\n",
    "    b = 0.25 * (q + 1)**2\n",
    "    log_SK = np.log(S0 / K)\n",
    "    sigma2_T2 = (sigma**2 * T) / 2\n",
    "\n",
    "    # Interpolate the results at the log(S0/K) point\n",
    "    y_interp_func = interp1d(x, results, kind='linear') \n",
    "    y_interpolated = y_interp_func(log_SK)\n",
    "\n",
    "    # Apply the transformation formula to get the option price V at S0\n",
    "    V_0 = K * np.exp(-a * log_SK - b * sigma2_T2) * y_interpolated\n",
    "\n",
    "    return V_0"
   ]
  },
  {
   "cell_type": "markdown",
   "metadata": {},
   "source": [
    "### 2.0 Obtaining option prices"
   ]
  },
  {
   "cell_type": "code",
   "execution_count": 18,
   "metadata": {},
   "outputs": [
    {
     "name": "stdout",
     "output_type": "stream",
     "text": [
      "FTCS Scenario 1 call price:  9.635616394378369\n",
      "Crank-Nicolson Scenario 1 call price: 9.634146004583407\n",
      "Black-scholes Scenario 1 call price: 9.625357828843697\n"
     ]
    }
   ],
   "source": [
    "# Testing\n",
    "\n",
    "# Scenarios to solve in assignment:  Scenario 1\n",
    "r = 0.04\n",
    "sigma = 0.30\n",
    "S0 = 100\n",
    "K = 110\n",
    "T = 1\n",
    "\n",
    "\n",
    "\n",
    "# Setting up the grid\n",
    "M =500\n",
    "N = 500\n",
    "Smax = 4 * K  # arbitrary choice\n",
    "Smin = 0.0001  # assuming stock price can't go below 0.0001, set at small number to avoid log(0) errors\n",
    "xmax = np.log(Smax / K)\n",
    "xmin = np.log(Smin / K)\n",
    "dx = (xmax - xmin) / M\n",
    "dt = T / N\n",
    "\n",
    "\n",
    "# For later plotting of delta\n",
    "S_array_scenario_1 = np.linspace(K*np.exp(xmin), K*np.exp(xmax), M+1)\n",
    "\n",
    "\n",
    "q = (2*r)/(sigma**2)\n",
    "a = 0.5*(q-1)\n",
    "b = 0.25*(q+1)**2\n",
    "\n",
    "# Initial condition (from slide 18, lecture: https://canvas.uva.nl/courses/42579/files/10468265?module_item_id=1984428\n",
    "x = np.linspace(xmin, xmax, M+1)\n",
    "init = np.maximum(np.exp(0.5*(q + 1) * x) - np.exp(0.5 *( q - 1) * x), 0)\n",
    "\n",
    "\n",
    "# Results FTCS\n",
    "scenario_1_FCTS_results = FTCS_vectorized(init, M, N, r, sigma, xmin, xmax, T, q, boundary_condition = 'Dirichlet')\n",
    "\n",
    "# Results Crank-Nicolson\n",
    "scenario_1_Crank_results = Crank_Nicolson_Vectorized(init, M, N, r, sigma, xmin, xmax, T, q, boundary_condition = 'Dirichlet')\n",
    "\n",
    "\n",
    "# Transforming solution FTCS\n",
    "print('FTCS Scenario 1 call price: ', transform_solution(scenario_1_FCTS_results,  r, sigma, S0, K, T, Smin, Smax, xmin, xmax, M, N, a, b, q))\n",
    "\n",
    "\n",
    "# Transforming solution Crank-Nicolson\n",
    "print('Crank-Nicolson Scenario 1 call price:', transform_solution(scenario_1_Crank_results, r, sigma, S0, K, T, Smin, Smax, xmin, xmax, M, N, a, b, q))\n",
    "\n",
    "# Black Scholes price\n",
    "print('Black-scholes Scenario 1 call price:', black_scholes(S0,K,T,r,sigma,type='call'))"
   ]
  },
  {
   "cell_type": "code",
   "execution_count": 19,
   "metadata": {},
   "outputs": [
    {
     "name": "stdout",
     "output_type": "stream",
     "text": [
      "FTCS Scenario 2 call price:  15.153754081647524\n",
      "Crank-Nicolson Scenario 2 call price: 15.153355333032296\n",
      "Black-scholes Scenario 2 call price: 15.128591111967928\n"
     ]
    }
   ],
   "source": [
    "# Scenarios to solve in assignment:  Scenario 2\n",
    "r = 0.04\n",
    "sigma = 0.30\n",
    "S0 = 110\n",
    "K = 110\n",
    "T = 1\n",
    "\n",
    "\n",
    "\n",
    "# Setting up the grid\n",
    "M =500\n",
    "N = 500\n",
    "Smax = 4 * K  # arbitrary choice\n",
    "Smin = 0.0001  # assuming stock price can't go below 0.0001, set at small number to avoid log(0) errors\n",
    "xmax = np.log(Smax / K)\n",
    "xmin = np.log(Smin / K)\n",
    "dx = (xmax - xmin) / M\n",
    "dt = T / N\n",
    "\n",
    "# For later plotting of delta\n",
    "S_array_scenario_2 = np.linspace(K*np.exp(xmin), K*np.exp(xmax), M+1)\n",
    "\n",
    "\n",
    "\n",
    "\n",
    "q = (2*r)/(sigma**2)\n",
    "a = 0.5*(q-1)\n",
    "b = 0.25*(q+1)**2\n",
    "\n",
    "# Initial condition (from slide 18, lecture: https://canvas.uva.nl/courses/42579/files/10468265?module_item_id=1984428\n",
    "x = np.linspace(xmin, xmax, M+1)\n",
    "init = np.maximum(np.exp(0.5*(q + 1) * x) - np.exp(0.5 *( q - 1) * x), 0)\n",
    "\n",
    "\n",
    "# Results FTCS\n",
    "scenario_2_FCTS_results = FTCS_vectorized(init, M, N, r, sigma, xmin, xmax, T, q, boundary_condition = 'Dirichlet')\n",
    "\n",
    "# Results Crank-Nicolson\n",
    "scenario_2_Crank_results = Crank_Nicolson_Vectorized(init, M, N, r, sigma, xmin, xmax, T, q, boundary_condition = 'Dirichlet')\n",
    "\n",
    "# Transforming solution FTCS\n",
    "print('FTCS Scenario 2 call price: ', transform_solution(scenario_2_FCTS_results,  r, sigma, S0, K, T, Smin, Smax, xmin, xmax, M, N, a, b, q))\n",
    "\n",
    "\n",
    "# Transforming solution Crank-Nicolson\n",
    "print('Crank-Nicolson Scenario 2 call price:', transform_solution(scenario_2_Crank_results, r, sigma, S0, K, T, Smin, Smax, xmin, xmax, M, N, a, b, q))\n",
    "\n",
    "# Black Scholes price\n",
    "print('Black-scholes Scenario 2 call price:', black_scholes(S0,K,T,r,sigma,type='call'))"
   ]
  },
  {
   "cell_type": "code",
   "execution_count": 20,
   "metadata": {},
   "outputs": [
    {
     "name": "stdout",
     "output_type": "stream",
     "text": [
      "FTCS Scenario 3 call price:  21.882646472135654\n",
      "Crank-Nicolson Scenario 3 call price: 21.88723263542324\n",
      "Black-scholes Scenario 3 call price: 21.788808338829327\n"
     ]
    }
   ],
   "source": [
    "# Scenarios to solve in assignment:  Scenario 3\n",
    "r = 0.04\n",
    "sigma = 0.30\n",
    "S0 = 120\n",
    "K = 110\n",
    "T = 1\n",
    "\n",
    "\n",
    "# Setting up the grid\n",
    "M =500\n",
    "N = 500\n",
    "Smax = 4 * K  # arbitrary choice\n",
    "Smin = 0.0001  # assuming stock price can't go below 0.0001, set at small number to avoid log(0) errors\n",
    "xmax = np.log(Smax / K)\n",
    "xmin = np.log(Smin / K)\n",
    "dx = (xmax - xmin) / M\n",
    "dt = T / N\n",
    "\n",
    "# For later plotting of delta\n",
    "S_array_scenario_3 = np.linspace(K*np.exp(xmin), K*np.exp(xmax), M+1)\n",
    "\n",
    "\n",
    "q = (2*r)/(sigma**2)\n",
    "a = 0.5*(q-1)\n",
    "b = 0.25*(q+1)**2\n",
    "\n",
    "# Initial condition (from slide 18, lecture: https://canvas.uva.nl/courses/42579/files/10468265?module_item_id=1984428\n",
    "x = np.linspace(xmin, xmax, M+1)\n",
    "init = np.maximum(np.exp(0.5*(q + 1) * x) - np.exp(0.5 *( q - 1) * x), 0)\n",
    "\n",
    "\n",
    "# Results FTCS\n",
    "scenario_3_FCTS_results = FTCS_vectorized(init, M, N, r, sigma, xmin, xmax, T, q, boundary_condition = 'Dirichlet')\n",
    "\n",
    "# Results Crank-Nicolson\n",
    "scenario_3_Crank_results = Crank_Nicolson_Vectorized(init, M, N, r, sigma, xmin, xmax, T, q, boundary_condition = 'Dirichlet')\n",
    "\n",
    "# Transforming solution FTCS\n",
    "print('FTCS Scenario 3 call price: ', transform_solution(scenario_3_FCTS_results,  r, sigma, S0, K, T, Smin, Smax, xmin, xmax, M, N, a, b, q))\n",
    "\n",
    "\n",
    "# Transforming solution Crank-Nicolson\n",
    "print('Crank-Nicolson Scenario 3 call price:', transform_solution(scenario_3_Crank_results, r, sigma, S0, K, T, Smin, Smax, xmin, xmax, M, N, a, b, q))\n",
    "\n",
    "# Black Scholes price\n",
    "print('Black-scholes Scenario 3 call price:', black_scholes(S0,K,T,r,sigma,type='call'))"
   ]
  },
  {
   "cell_type": "markdown",
   "metadata": {},
   "source": [
    "### 2.1  Plotting convergence as a function of delta x"
   ]
  },
  {
   "cell_type": "code",
   "execution_count": 21,
   "metadata": {},
   "outputs": [],
   "source": [
    "# Lists for storing\n",
    "\n",
    "solution_FTCS_scen_1_across_deltax = []\n",
    "solution_FTCS_scen_2_across_deltax = []\n",
    "solution_FTCS_scen_3_across_deltax = []\n",
    "\n",
    "Error_FTCS_scen_1_across_deltax = []\n",
    "Error_FTCS_scen_2_across_deltax = []\n",
    "Error_FTCS_scen_3_across_deltax = []\n",
    "\n",
    "solution_Crank_scen_1_across_deltax = []\n",
    "solution_Crank_scen_2_across_deltax = []\n",
    "solution_Crank_scen_3_across_deltax = []\n",
    "\n",
    "Error_Crank_scen_1_across_deltax = []\n",
    "Error_Crank_scen_2_across_deltax = []\n",
    "Error_Crank_scen_3_across_deltax = []\n",
    "\n",
    "\n",
    "Ms = [100, 200, 300, 400]\n",
    "# Ms = [200, 400, 600, 800, 1000, 1200, 1400]\n",
    "dxs = [ (xmax - xmin) / M for M in Ms]\n",
    "N = 500 # timesteps stay the same\n",
    "Smax = 4 * K  # arbitrary choice\n",
    "Smin = 0.0001  # assuming stock price can't go below 0.0001, set at small number to avoid log(0) errors\n",
    "xmax = np.log(Smax / K)\n",
    "xmin = np.log(Smin / K)\n",
    "dx = (xmax - xmin) / M\n",
    "dt = T / N\n",
    "\n",
    "# Setting up the grid\n",
    "for M, dxs in zip(Ms, dxs):\n",
    "\n",
    "    # Adjusting the grid as it deppends on M\n",
    "    x = np.linspace(xmin, xmax, M+1)\n",
    "    init = np.maximum(np.exp(0.5*(q + 1) * x) - np.exp(0.5 *( q - 1) * x), 0)\n",
    "\n",
    "\n",
    "    # Scenario 1\n",
    "    r = 0.04\n",
    "    sigma = 0.30\n",
    "    S0 = 120\n",
    "    K = 110\n",
    "    T = 1\n",
    "    # Black Scholes price\n",
    "    scenario_1_BS_results = black_scholes(S0,K,T,r,sigma,type='call')\n",
    "    # Results FTCS\n",
    "    scenario_1_FCTS_results = FTCS_vectorized(init, M, N, r, sigma, xmin, xmax, T, q, boundary_condition = 'Dirichlet')\n",
    "    sol_scen1_FCTS = transform_solution(scenario_1_FCTS_results,  r, sigma, S0, K, T, Smin, Smax, xmin, xmax, M, N, a, b, q)\n",
    "    solution_FTCS_scen_1_across_deltax.append(sol_scen1_FCTS)\n",
    "    # Results Crank-Nicolson\n",
    "    scenario_2_Crank_results = Crank_Nicolson_Vectorized(init, M, N, r, sigma, xmin, xmax, T, q, boundary_condition = 'Dirichlet')\n",
    "    sol_scen2_Crank = transform_solution(scenario_1_FCTS_results,  r, sigma, S0, K, T, Smin, Smax, xmin, xmax, M, N, a, b, q)\n",
    "    solution_Crank_scen_1_across_deltax.append(sol_scen2_Crank)\n",
    "    # Errors\n",
    "    FCTS_scen_1_error = np.abs(scenario_1_BS_results-sol_scen1_FCTS)\n",
    "    Error_FTCS_scen_1_across_deltax.append(FCTS_scen_1_error)\n",
    "    Crank_scen_1_error = np.abs(scenario_1_BS_results-sol_scen2_Crank)\n",
    "    Error_Crank_scen_1_across_deltax.append(Crank_scen_1_error)\n",
    "\n",
    "    # Scenario 2\n",
    "    r = 0.04\n",
    "    sigma = 0.30\n",
    "    S0 = 110\n",
    "    K = 110\n",
    "    T = 1\n",
    "    # Black Scholes price\n",
    "    scenario_2_BS_results = black_scholes(S0,K,T,r,sigma,type='call')\n",
    "    # Results FTCS\n",
    "    scenario_2_FCTS_results = FTCS_vectorized(init, M, N, r, sigma, xmin, xmax, T, q, boundary_condition = 'Dirichlet')\n",
    "    sol_scen2_FCTS = transform_solution(scenario_2_FCTS_results,  r, sigma, S0, K, T, Smin, Smax, xmin, xmax, M, N, a, b, q)\n",
    "    solution_FTCS_scen_2_across_deltax.append(sol_scen2_FCTS)\n",
    "    # Results Crank-Nicolson\n",
    "    scenario_2_Crank_results = Crank_Nicolson_Vectorized(init, M, N, r, sigma, xmin, xmax, T, q, boundary_condition = 'Dirichlet')\n",
    "    sol_scen2_Crank = transform_solution(scenario_2_Crank_results, r, sigma, S0, K, T, Smin, Smax, xmin, xmax, M, N, a, b, q)\n",
    "    solution_Crank_scen_2_across_deltax.append(sol_scen2_Crank)\n",
    "    # Errors\n",
    "    FCTS_scen_2_error = np.abs(scenario_2_BS_results-sol_scen2_FCTS)\n",
    "    Error_FTCS_scen_2_across_deltax.append(FCTS_scen_2_error)\n",
    "    Crank_scen_2_error = np.abs(scenario_2_BS_results-sol_scen2_Crank)\n",
    "    Error_Crank_scen_2_across_deltax.append(Crank_scen_2_error)\n",
    "\n",
    "    # Scenario 3\n",
    "    r = 0.04\n",
    "    sigma = 0.30\n",
    "    S0 = 120\n",
    "    K = 110\n",
    "    T = 1\n",
    "    # Black Scholes price\n",
    "    scenario_3_BS_results = black_scholes(S0,K,T,r,sigma,type='call')\n",
    "    # Results FTCS\n",
    "    scenario_3_FCTS_results = FTCS_vectorized(init, M, N, r, sigma, xmin, xmax, T, q, boundary_condition = 'Dirichlet')\n",
    "    sol_scen3_FCTS = transform_solution(scenario_3_FCTS_results,  r, sigma, S0, K, T, Smin, Smax, xmin, xmax, M, N, a, b, q)\n",
    "    solution_FTCS_scen_3_across_deltax.append(sol_scen3_FCTS)\n",
    "    # Results Crank-Nicolson\n",
    "    scenario_3_Crank_results = Crank_Nicolson_Vectorized(init, M, N, r, sigma, xmin, xmax, T, q, boundary_condition = 'Dirichlet')\n",
    "    sol_scen3_Crank = transform_solution(scenario_3_Crank_results, r, sigma, S0, K, T, Smin, Smax, xmin, xmax, M, N, a, b, q)\n",
    "    solution_Crank_scen_3_across_deltax.append(sol_scen3_Crank)\n",
    "    # Errors\n",
    "    FCTS_scen_3_error = np.abs(scenario_3_BS_results-sol_scen3_FCTS)\n",
    "    Error_FTCS_scen_3_across_deltax.append(FCTS_scen_3_error)\n",
    "    Crank_scen_3_error = np.abs(scenario_3_BS_results-sol_scen3_Crank)\n",
    "    Error_Crank_scen_3_across_deltax.append(Crank_scen_3_error)\n",
    "\n",
    " \n"
   ]
  },
  {
   "cell_type": "code",
   "execution_count": 24,
   "metadata": {},
   "outputs": [
    {
     "data": {
      "text/plain": [
       "[5.911049137885911,\n",
       " 0.5141057980908101,\n",
       " 0.28437629471710224,\n",
       " 0.11339907527803561]"
      ]
     },
     "execution_count": 24,
     "metadata": {},
     "output_type": "execute_result"
    }
   ],
   "source": [
    "Error_FTCS_scen_1_across_deltax"
   ]
  },
  {
   "cell_type": "code",
   "execution_count": 27,
   "metadata": {},
   "outputs": [
    {
     "data": {
      "text/plain": [
       "[0.1529711509888849,\n",
       " 0.07648557549444245,\n",
       " 0.05099038366296163,\n",
       " 0.03824278774722122]"
      ]
     },
     "execution_count": 27,
     "metadata": {},
     "output_type": "execute_result"
    }
   ],
   "source": [
    "\n",
    "dxs"
   ]
  },
  {
   "cell_type": "code",
   "execution_count": 28,
   "metadata": {},
   "outputs": [
    {
     "data": {
      "text/plain": [
       "Text(0.5, 1.0, 'Error of FTCS and Crank-Nicolson methods for different dx values')"
      ]
     },
     "execution_count": 28,
     "metadata": {},
     "output_type": "execute_result"
    },
    {
     "data": {
      "image/png": "[encoded data removed]",
      "text/plain": [
       "<Figure size 1200x800 with 1 Axes>"
      ]
     },
     "metadata": {},
     "output_type": "display_data"
    }
   ],
   "source": [
    "# Plotting\n",
    "plt.figure(figsize=(12, 8))\n",
    "plt.plot(dxs, Error_FTCS_scen_1_across_deltax, label='FTCS Scenario 1')\n",
    "plt.plot(dxs, Error_Crank_scen_1_across_deltax, label='Crank-Nicolson Scenario 1')\n",
    "plt.plot(dxs, Error_FTCS_scen_2_across_deltax, label='FTCS Scenario 2')\n",
    "plt.plot(dxs, Error_Crank_scen_2_across_deltax, label='Crank-Nicolson Scenario 2')\n",
    "plt.plot(dxs, Error_FTCS_scen_3_across_deltax, label='FTCS Scenario 3')\n",
    "plt.plot(dxs, Error_Crank_scen_3_across_deltax, label='Crank-Nicolson Scenario 3')\n",
    "plt.xlabel('dx')\n",
    "plt.ylabel('Error')\n",
    "plt.legend()\n",
    "plt.title('Error of FTCS and Crank-Nicolson methods for different dx values')\n"
   ]
  },
  {
   "cell_type": "markdown",
   "metadata": {},
   "source": [
    "### 2.2 Computing Delta"
   ]
  },
  {
   "cell_type": "code",
   "execution_count": null,
   "metadata": {},
   "outputs": [],
   "source": [
    "def compute_delta(option_prices, stock_prices):\n",
    "    # Compute the derivative of option prices with respect to stock prices\n",
    "    delta = np.diff(option_prices) / np.diff(stock_prices)\n",
    "    return delta"
   ]
  }
 ],
 "metadata": {
  "kernelspec": {
   "display_name": "compfinance",
   "language": "python",
   "name": "python3"
  },
  "language_info": {
   "codemirror_mode": {
    "name": "ipython",
    "version": 3
   },
   "file_extension": ".py",
   "mimetype": "text/x-python",
   "name": "python",
   "nbconvert_exporter": "python",
   "pygments_lexer": "ipython3",
   "version": "3.11.7"
  }
 },
 "nbformat": 4,
 "nbformat_minor": 2
}
