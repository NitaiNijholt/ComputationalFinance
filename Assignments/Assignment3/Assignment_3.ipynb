{
 "cells": [
  {
   "cell_type": "markdown",
   "metadata": {},
   "source": [
    "# Assignment 3"
   ]
  },
  {
   "cell_type": "code",
   "execution_count": 160,
   "metadata": {},
   "outputs": [],
   "source": [
    "# imports\n",
    "import numpy as np\n",
    "import scipy.linalg as linag\n",
    "import pandas as pd\n",
    "import matplotlib.pyplot as plt\n",
    "from scipy.interpolate import interp1d\n",
    "from scipy.stats import norm\n",
    "from numba import njit"
   ]
  },
  {
   "cell_type": "code",
   "execution_count": 161,
   "metadata": {},
   "outputs": [],
   "source": [
    "def black_scholes(S, K, T, r, sigma, type='call'):\n",
    "    \"\"\"Price Black-Scholes option\"\"\"\n",
    "\n",
    "    d1 = (np.log(S / K) + (r + 0.5 * sigma**2) * T) / (sigma * np.sqrt(T))\n",
    "    d2 = d1 - sigma * np.sqrt(T)\n",
    "\n",
    "    if type == 'call':\n",
    "        option_price = S * norm.cdf(d1) - K * np.exp(-r * T) * norm.cdf(d2)\n",
    "    elif type == 'put':\n",
    "        option_price = K * np.exp(-r * T) * norm.cdf(-d2) - S * norm.cdf(-d1)\n",
    "\n",
    "    return option_price"
   ]
  },
  {
   "cell_type": "code",
   "execution_count": 162,
   "metadata": {},
   "outputs": [],
   "source": [
    "@njit\n",
    "def create_tri_diagonal_matrix(a,b,c, size):\n",
    "    matrix = np.zeros(size)\n",
    "\n",
    "\n",
    "\n",
    "    np.fill_diagonal(matrix[1:], a)  # superdiagonal\n",
    "    np.fill_diagonal(matrix, b) # diagonal\n",
    "    np.fill_diagonal(matrix[:, 1:], c)  # subdiagonal\n",
    "    \n",
    "    \n",
    "    return matrix"
   ]
  },
  {
   "cell_type": "code",
   "execution_count": 163,
   "metadata": {},
   "outputs": [
    {
     "name": "stdout",
     "output_type": "stream",
     "text": [
      "[[2. 3. 0. 0. 0. 0. 0. 0. 0. 0.]\n",
      " [1. 2. 3. 0. 0. 0. 0. 0. 0. 0.]\n",
      " [0. 1. 2. 3. 0. 0. 0. 0. 0. 0.]\n",
      " [0. 0. 1. 2. 3. 0. 0. 0. 0. 0.]\n",
      " [0. 0. 0. 1. 2. 3. 0. 0. 0. 0.]\n",
      " [0. 0. 0. 0. 1. 2. 3. 0. 0. 0.]\n",
      " [0. 0. 0. 0. 0. 1. 2. 3. 0. 0.]\n",
      " [0. 0. 0. 0. 0. 0. 1. 2. 3. 0.]\n",
      " [0. 0. 0. 0. 0. 0. 0. 1. 2. 3.]\n",
      " [0. 0. 0. 0. 0. 0. 0. 0. 1. 2.]]\n"
     ]
    }
   ],
   "source": [
    "test_matrix = create_tri_diagonal_matrix(1,2,3, (10,10))\n",
    "print(test_matrix)"
   ]
  },
  {
   "cell_type": "markdown",
   "metadata": {},
   "source": [
    "Scenarios to test"
   ]
  },
  {
   "cell_type": "code",
   "execution_count": 176,
   "metadata": {},
   "outputs": [],
   "source": [
    "\n",
    "# Scenarios to solve in assignment\n",
    "\n",
    "# # Scenario 1\n",
    "# r = 0.04\n",
    "# sigma = 0.30\n",
    "# S0 = 100\n",
    "# K = 110\n",
    "# T = 1\n",
    "\n",
    "\n",
    "# # Scenario 2\n",
    "# r = 0.04\n",
    "# sigma = 0.30\n",
    "# S0 = 110\n",
    "# K = 110\n",
    "# T = 1\n",
    "\n",
    "\n",
    "# # Scenario 3\n",
    "# r = 0.04\n",
    "# sigma = 0.30\n",
    "# S0 = 120\n",
    "# K = 110\n",
    "# T = 1"
   ]
  },
  {
   "cell_type": "code",
   "execution_count": 166,
   "metadata": {},
   "outputs": [],
   "source": [
    "@njit\n",
    "def FTCS_vectorized(init, M, N, r, sigma, xmin, xmax, T, q, boundary_condition = 'Dirichlet'):\n",
    "    y_current = init.copy()\n",
    "    y_next = np.zeros_like(y_current)\n",
    "    dx = (xmax - xmin) / M\n",
    "    dt = T / N\n",
    "\n",
    "    lambda_const = 0.5 * sigma**2 * dt / dx**2\n",
    "\n",
    "    # Checking the CFL condition value\n",
    "    cfl_value = lambda_const\n",
    "\n",
    "    if lambda_const > 0.5:\n",
    "        ValueError('Warning, CFL condition indicates unstability, choose a different ratio of delta t and delta x')\n",
    "\n",
    "    a = lambda_const\n",
    "    b = 1- 2* lambda_const\n",
    "    c = lambda_const\n",
    "\n",
    "\n",
    "    A = create_tri_diagonal_matrix(a,b,c, (M + 1, M + 1))  # create tridiagonal matrix\n",
    "\n",
    "\n",
    "    for step in range(N-1):\n",
    "        if boundary_condition == 'Dirichlet':\n",
    "            # Only entry we need to modify for boundary condition is j = M, as Y0 will be set by 0 by the boundary conditions and thus can be omitted.\n",
    "            # Create the vector k according to the slide 25, lecture: https://canvas.uva.nl/courses/42579/files/10468265?module_item_id=1984428\n",
    "            k = np.zeros(y_current.shape[0])\n",
    "            tau_n = (N-1) * dt  \n",
    "            # Apply the computed k value to the last element in y_next, adjusted for the boundary condition\n",
    "            k[-1] = (np.exp(xmax) - np.exp(-q * tau_n)) * np.exp(0.5 * (q - 1) * xmax + 0.25 * (q + 1)**2 * tau_n)\n",
    "\n",
    "            \n",
    "            y_next = A @ y_current + k\n",
    "\n",
    "        if boundary_condition == 'Neumann':\n",
    "            # Might implement later\n",
    "            pass\n",
    "        \n",
    "        # Prepare for the next step\n",
    "        y_current = y_next.copy()\n",
    "        \n",
    "    return y_next\n"
   ]
  },
  {
   "cell_type": "code",
   "execution_count": 167,
   "metadata": {},
   "outputs": [],
   "source": [
    "@njit\n",
    "def Crank_Nicolson_Vectorized(init, M, N, r, sigma, xmin, xmax, T, q, boundary_condition = 'Dirichlet'):\n",
    "    y_current = init.copy()\n",
    "    y_next = np.zeros_like(y_current)\n",
    "    dx = (xmax - xmin) / M\n",
    "    dt = T / N\n",
    "\n",
    "    lambda_const = 0.5 * sigma**2 * dt / dx**2 \n",
    "\n",
    "    # Checking the CFL condition value\n",
    "    cfl_value = lambda_const\n",
    "    \n",
    "    if lambda_const > 0.5:\n",
    "        ValueError('Warning, CFL condition indicates unstability, choose a different ratio of delta t and delta x')\n",
    "\n",
    "    a = -0.5 * lambda_const\n",
    "    b = 1 + lambda_const\n",
    "    c = -0.5 * lambda_const\n",
    "\n",
    "    d = 0.5 * lambda_const\n",
    "    e = 1 - lambda_const\n",
    "    f = 0.5 * lambda_const\n",
    "\n",
    "\n",
    "    A = create_tri_diagonal_matrix(a,b,c, (M + 1, M + 1))  # create tridiagonal matrix A (forward in time)\n",
    "\n",
    "    B = create_tri_diagonal_matrix(d,e,f, (M + 1, M + 1))  # create tridiagonal matrix B (backward in time)\n",
    "\n",
    "    for step in range(N-1):\n",
    "        if boundary_condition == 'Dirichlet':\n",
    "            # Only entry we need to modify for boundary condition is j = M, as Y0 will be set by 0 by the boundary conditions and thus can be omitted.\n",
    "            # Create the vector k according to the slide 25, lecture: https://canvas.uva.nl/courses/42579/files/10468265?module_item_id=1984428\n",
    "            k = np.zeros(y_current.shape[0])\n",
    "            tau_n = (N-1) * dt  \n",
    "            # Apply the computed k value to the last element in y_next, adjusted for the boundary condition\n",
    "            k[-1] = (np.exp(xmax) - np.exp(-q * tau_n)) * np.exp(0.5 * (q - 1) * xmax + 0.25 * (q + 1)**2 * tau_n)\n",
    "\n",
    "            \n",
    "            # Solve the linear system A y_next = B y_current + k\n",
    "            y_next = np.linalg.solve(A, B @ y_current + k)\n",
    "\n",
    "        if boundary_condition == 'Neumann':\n",
    "            # Might implement later\n",
    "            pass\n",
    "        \n",
    "        # Prepare for the next step\n",
    "        y_current = y_next.copy()\n",
    "        \n",
    "    return y_next\n"
   ]
  },
  {
   "cell_type": "code",
   "execution_count": 168,
   "metadata": {},
   "outputs": [],
   "source": [
    "def transform_solution(results, r, sigma, S0, K, T, Smin, Smax, xmin, xmax, M, N, a, b, q):\n",
    "    # Calculate the value of interest for S and sigma^2*T/2\n",
    "    log_SK = np.log(S0 / K)\n",
    "    sigma2_T2 = (sigma**2 * T) / 2\n",
    "\n",
    "    # Generate the grid for S (in log space) and t\n",
    "    x = np.linspace(xmin, xmax, M + 1)  # x grid for log(S/K)\n",
    "    t_grid = np.linspace(0, T, N)   # Time grid from 0 to T\n",
    "\n",
    "\n",
    "    # Interpolate in the space dimension (log(S/K))\n",
    "    y_interp_func = interp1d(x, results, kind='linear') \n",
    "    y_interpolated = y_interp_func(log_SK)\n",
    "    \n",
    "    # No need to interpolate in time since we're evaluating at T\n",
    "\n",
    "    # Apply the transformation formula\n",
    "    V_0 = K * y_interpolated * np.exp(a * log_SK + b * sigma2_T2)\n",
    "\n",
    "    return V_0"
   ]
  },
  {
   "cell_type": "code",
   "execution_count": 169,
   "metadata": {},
   "outputs": [],
   "source": [
    "# Testing\n",
    "\n",
    "# Scenario 1\n",
    "r = 0.04\n",
    "sigma = 0.30\n",
    "S0 = 100\n",
    "K = 110\n",
    "T = 1\n",
    "M = 1000\n",
    "N = 1000\n",
    "\n",
    "\n",
    "# Initial condition (from slide 18, lecture: https://canvas.uva.nl/courses/42579/files/10468265?module_item_id=1984428\n",
    "x = np.linspace(xmin, xmax, M+1)\n",
    "init = np.maximum(np.exp((q - 1) * x) - np.exp((0.5 * q - 1) * x), 0)\n",
    "\n",
    "\n",
    "# Setting up the grid\n",
    "Smax = 4 * K  # arbitrary choice\n",
    "Smin = 0.0001  # assuming stock price can't go below 0.0001, set at small number to avoid log(0) errors\n",
    "xmax = np.log(Smax / K)\n",
    "xmin = np.log(Smin / K)\n",
    "dx = (xmax - xmin) / M\n",
    "dt = T / N\n",
    "q = (2*r)/(sigma**2)\n",
    "a = 0.5*(q-1)\n",
    "b = 0.25*(q+1)**2\n",
    "\n",
    "# Results FTCS\n",
    "scenario_1_FCTS_results = FTCS_vectorized(init, M, N, r, sigma, xmin, xmax, T, q, boundary_condition = 'Dirichlet')\n",
    "\n",
    "# Results Crank-Nicolson\n",
    "scenario_1_Crank_results = Crank_Nicolson_Vectorized(init, M, N, r, sigma, xmin, xmax, T, q, boundary_condition = 'Dirichlet')\n",
    "\n",
    "\n",
    "# Tranforming solution\n",
    "\n"
   ]
  },
  {
   "cell_type": "code",
   "execution_count": 172,
   "metadata": {},
   "outputs": [
    {
     "name": "stdout",
     "output_type": "stream",
     "text": [
      "1001\n",
      "1001\n"
     ]
    },
    {
     "data": {
      "text/plain": [
       "3.5790737845499816"
      ]
     },
     "execution_count": 172,
     "metadata": {},
     "output_type": "execute_result"
    }
   ],
   "source": [
    "transform_solution(scenario_1_FCTS_results,  r, sigma, S0, K, T, Smin, Smax, xmin, xmax, M, N, a, b, q)"
   ]
  },
  {
   "cell_type": "code",
   "execution_count": 173,
   "metadata": {},
   "outputs": [
    {
     "name": "stdout",
     "output_type": "stream",
     "text": [
      "1001\n",
      "1001\n"
     ]
    },
    {
     "data": {
      "text/plain": [
       "3.5786022972028984"
      ]
     },
     "execution_count": 173,
     "metadata": {},
     "output_type": "execute_result"
    }
   ],
   "source": [
    "transform_solution(scenario_1_Crank_results, r, sigma, S0, K, T, Smin, Smax, xmin, xmax, M, N, a, b, q)"
   ]
  },
  {
   "cell_type": "code",
   "execution_count": 174,
   "metadata": {},
   "outputs": [],
   "source": [
    "r = 0.04\n",
    "sigma = 0.30\n",
    "S0 = 100\n",
    "K = 110\n",
    "T = 1"
   ]
  },
  {
   "cell_type": "code",
   "execution_count": 175,
   "metadata": {},
   "outputs": [
    {
     "data": {
      "text/plain": [
       "9.625357828843697"
      ]
     },
     "execution_count": 175,
     "metadata": {},
     "output_type": "execute_result"
    }
   ],
   "source": [
    "black_scholes(S0,K,T,r,sigma,type='call')"
   ]
  },
  {
   "cell_type": "markdown",
   "metadata": {},
   "source": [
    "Results look quite different, don't know why"
   ]
  }
 ],
 "metadata": {
  "kernelspec": {
   "display_name": "compfinance",
   "language": "python",
   "name": "python3"
  },
  "language_info": {
   "codemirror_mode": {
    "name": "ipython",
    "version": 3
   },
   "file_extension": ".py",
   "mimetype": "text/x-python",
   "name": "python",
   "nbconvert_exporter": "python",
   "pygments_lexer": "ipython3",
   "version": "3.11.7"
  }
 },
 "nbformat": 4,
 "nbformat_minor": 2
}
